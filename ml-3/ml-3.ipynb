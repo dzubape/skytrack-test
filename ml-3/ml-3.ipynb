{
 "cells": [
  {
   "cell_type": "code",
   "execution_count": null,
   "metadata": {},
   "outputs": [],
   "source": [
    "%load_ext autoreload\n",
    "%autoreload 1"
   ]
  },
  {
   "cell_type": "code",
   "execution_count": null,
   "metadata": {},
   "outputs": [],
   "source": [
    "%aimport cats_vs_dogs\n",
    "\n",
    "from cats_vs_dogs import main, last_train_start\n",
    "\n",
    "mark=None"
   ]
  },
  {
   "cell_type": "code",
   "execution_count": null,
   "metadata": {},
   "outputs": [],
   "source": [
    "try:\n",
    "    print(\"open model mark:\", mark)\n",
    "except:\n",
    "    mark = \"2019-02-17_22-02-28\"\n",
    "    pass\n",
    "\n",
    "main((\n",
    "    \"--train\",\n",
    "    \"--train-epoch-count\", 20,\n",
    "    \"--model-mark\", mark\n",
    "))\n",
    "\n",
    "mark = last_train_start()\n",
    "\n",
    "print(\"done\")"
   ]
  }
 ],
 "metadata": {
  "kernelspec": {
   "display_name": "Python 3",
   "language": "python",
   "name": "python3"
  },
  "language_info": {
   "codemirror_mode": {
    "name": "ipython",
    "version": 3
   },
   "file_extension": ".py",
   "mimetype": "text/x-python",
   "name": "python",
   "nbconvert_exporter": "python",
   "pygments_lexer": "ipython3",
   "version": "3.5.3"
  }
 },
 "nbformat": 4,
 "nbformat_minor": 2
}
